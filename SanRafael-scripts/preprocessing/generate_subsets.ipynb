{
 "cells": [
  {
   "cell_type": "code",
   "execution_count": 46,
   "metadata": {},
   "outputs": [],
   "source": [
    "import tifffile\n",
    "import numpy as np\n",
    "from PIL import Image\n",
    "import pandas as pd"
   ]
  },
  {
   "cell_type": "code",
   "execution_count": 50,
   "metadata": {},
   "outputs": [],
   "source": [
    "source_img_ffn = '/g/data1a/kl02/jss548/HailPixel/20181126_mosaic.tif'\n",
    "output_path    = '/g/data1a/kl02/jss548/HailPixel/subsets'\n",
    "output_ffn     = '/g/data1a/kl02/jss548/HailPixel/subsets/index.csv'"
   ]
  },
  {
   "cell_type": "code",
   "execution_count": 36,
   "metadata": {},
   "outputs": [
    {
     "name": "stdout",
     "output_type": "stream",
     "text": [
      "original image size (18509, 26418, 4)\n"
     ]
    }
   ],
   "source": [
    "im    = tifffile.imread(source_img_ffn)\n",
    "im_sz = np.shape(im)\n",
    "print('original image size', im_sz)\n",
    "im_y  = im_sz[0]\n",
    "im_x  = im_sz[1]\n",
    "im_z  = im_sz[2]\n"
   ]
  },
  {
   "cell_type": "code",
   "execution_count": 37,
   "metadata": {},
   "outputs": [
    {
     "name": "stdout",
     "output_type": "stream",
     "text": [
      "padded image size (18600, 26600, 4)\n"
     ]
    }
   ],
   "source": [
    "# target size\n",
    "subset_sz      = 500\n",
    "subset_overlap = 50\n",
    "# image size\n",
    "im_pad_y = 18500\n",
    "im_pad_x = 26500\n",
    "# pad image\n",
    "pad_y0 = 50\n",
    "pad_x0 = 50\n",
    "pad_yn = 50 + (im_pad_y-im_y)\n",
    "pad_xn = 50 + (im_pad_x-im_x)\n",
    "im_padded = np.pad(im, ((pad_y0, pad_yn), (pad_x0, pad_xn), (0, 0)), mode='constant')\n",
    "print('padded image size', np.shape(im_padded))"
   ]
  },
  {
   "cell_type": "code",
   "execution_count": 51,
   "metadata": {},
   "outputs": [
    {
     "name": "stdout",
     "output_type": "stream",
     "text": [
      "finished\n"
     ]
    }
   ],
   "source": [
    "subset_idx = 0\n",
    "dict_idx = {'idx':[], 'x0':[], 'y0':[]}\n",
    "for y in np.arange(subset_overlap, im_pad_y, subset_sz):\n",
    "    for x in np.arange(subset_overlap, im_pad_x, subset_sz):\n",
    "        #extract subset\n",
    "        subset_y0 = y - subset_overlap\n",
    "        subset_x0 = x - subset_overlap\n",
    "        subset_yn = y + subset_sz + subset_overlap\n",
    "        subset_xn = x + subset_sz + subset_overlap\n",
    "        subset_im = im_padded[subset_y0:subset_yn,subset_x0:subset_xn,0:3]\n",
    "        #write to file\n",
    "        out_ffn = '/'.join([output_path, str(subset_idx).zfill(4)]) + '.png'\n",
    "        im = Image.fromarray(subset_im)\n",
    "        im.save(out_ffn)\n",
    "        #append to dict\n",
    "        dict_idx['idx'].append(subset_idx)\n",
    "        dict_idx['y0'].append(subset_y0)\n",
    "        dict_idx['x0'].append(subset_x0)\n",
    "        #print('generated output for',out_ffn)\n",
    "        subset_idx += 1\n",
    "print('finished')\n",
    "\n",
    "#write dictionary to file\n",
    "df = pd.DataFrame.from_dict(dict_idx)\n",
    "df.to_csv(output_ffn)"
   ]
  }
 ],
 "metadata": {
  "kernelspec": {
   "display_name": "Python 3",
   "language": "python",
   "name": "python3"
  },
  "language_info": {
   "codemirror_mode": {
    "name": "ipython",
    "version": 3
   },
   "file_extension": ".py",
   "mimetype": "text/x-python",
   "name": "python",
   "nbconvert_exporter": "python",
   "pygments_lexer": "ipython3",
   "version": "3.6.7"
  }
 },
 "nbformat": 4,
 "nbformat_minor": 2
}
