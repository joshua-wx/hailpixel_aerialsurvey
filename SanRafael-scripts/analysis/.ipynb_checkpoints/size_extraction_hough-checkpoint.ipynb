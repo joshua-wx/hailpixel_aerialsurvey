{
 "cells": [
  {
   "cell_type": "code",
   "execution_count": 105,
   "metadata": {},
   "outputs": [],
   "source": [
    "import cv2\n",
    "from skimage.feature import canny\n",
    "from skimage import color\n",
    "\n",
    "from skimage.transform import hough_ellipse\n",
    "from skimage.draw import ellipse_perimeter"
   ]
  },
  {
   "cell_type": "code",
   "execution_count": 106,
   "metadata": {},
   "outputs": [],
   "source": [
    "image_ffn = 'test_hailstones/test1.png'"
   ]
  },
  {
   "cell_type": "code",
   "execution_count": 114,
   "metadata": {},
   "outputs": [
    {
     "name": "stdout",
     "output_type": "stream",
     "text": [
      "[[[ 9.5  9.5  4.6]\n",
      "  [10.5 11.5  4.6]\n",
      "  [17.5 12.5  3. ]]]\n"
     ]
    },
    {
     "data": {
      "text/plain": [
       "<matplotlib.image.AxesImage at 0x7f86ac999eb8>"
      ]
     },
     "execution_count": 114,
     "metadata": {},
     "output_type": "execute_result"
    },
    {
     "data": {
      "image/png": "[encoded data removed]",
      "text/plain": [
       "<Figure size 576x1152 with 2 Axes>"
      ]
     },
     "metadata": {},
     "output_type": "display_data"
    }
   ],
   "source": [
    "#load image\n",
    "img_data     = cv2.imread(image_ffn)\n",
    "img_gray     = cv2.cvtColor(img_data, cv2.COLOR_BGR2GRAY)\n",
    "\n",
    "circles = cv2.HoughCircles(img_gray,cv2.HOUGH_GRADIENT,1,1,\n",
    "                            param1=10,param2=10,minRadius=0,maxRadius=0)\n",
    "\n",
    "print(circles)\n",
    "\n",
    "plt.figure(facecolor='white',figsize=[8, 16])\n",
    "plt.subplot(121)\n",
    "plt.imshow(img_gray)\n",
    "\n",
    "plt.subplot(122)\n",
    "plt.imshow(edges.astype('float'), vmin=0, vmax=1)\n",
    "\n"
   ]
  },
  {
   "cell_type": "code",
   "execution_count": null,
   "metadata": {},
   "outputs": [],
   "source": []
  }
 ],
 "metadata": {
  "kernelspec": {
   "display_name": "Python 3",
   "language": "python",
   "name": "python3"
  },
  "language_info": {
   "codemirror_mode": {
    "name": "ipython",
    "version": 3
   },
   "file_extension": ".py",
   "mimetype": "text/x-python",
   "name": "python",
   "nbconvert_exporter": "python",
   "pygments_lexer": "ipython3",
   "version": "3.6.7"
  }
 },
 "nbformat": 4,
 "nbformat_minor": 2
}
