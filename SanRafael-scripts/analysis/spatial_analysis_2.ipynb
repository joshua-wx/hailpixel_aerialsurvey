{
 "cells": [
  {
   "cell_type": "code",
   "execution_count": 20,
   "metadata": {},
   "outputs": [],
   "source": [
    "#list all json files\n",
    "#read json files\n",
    "#remove points in buffer region\n",
    "#count points"
   ]
  },
  {
   "cell_type": "code",
   "execution_count": 1,
   "metadata": {},
   "outputs": [],
   "source": [
    "import json\n",
    "import os\n",
    "import glob\n",
    "import pandas as pd\n",
    "from matplotlib import pyplot as plt\n",
    "import numpy as np"
   ]
  },
  {
   "cell_type": "code",
   "execution_count": 2,
   "metadata": {},
   "outputs": [],
   "source": [
    "json_ffn     = '/g/data1a/kl02/jss548/hail-research/HailPixel/subsets/hailpixel_20181126_final_hq_complete.json'\n",
    "ref_ffn      = '/g/data1a/kl02/jss548/hail-research/HailPixel/subsets/index.csv'"
   ]
  },
  {
   "cell_type": "code",
   "execution_count": 3,
   "metadata": {},
   "outputs": [],
   "source": [
    "#read reference file\n",
    "df = pd.read_csv(ref_ffn, header=0)\n",
    "ref_dict = df.to_dict(orient='list')"
   ]
  },
  {
   "cell_type": "code",
   "execution_count": 20,
   "metadata": {},
   "outputs": [],
   "source": [
    "hail_count   = 0\n",
    "hail_skipped = 0\n",
    "buffer_px    = 50\n",
    "hail_x       = []\n",
    "hail_y       = []\n",
    "hail_major   = []\n",
    "hail_ratio   = []\n",
    "hq_x         = []\n",
    "hq_y         = []\n",
    "hq_id        = []\n",
    "tile_count   = []\n",
    "\n",
    "\n",
    "#open json index file\n",
    "with open(json_ffn) as json_fh:  \n",
    "    data = json.load(json_fh)\n",
    "\n",
    "#load keys from file\n",
    "json_keys = list(data.keys())[0:]\n",
    "\n",
    "\n",
    "for key_idx in range(0, len(json_keys)):\n",
    "    tile_count_temp = 0\n",
    "    #extract image json\n",
    "    image_json = data[json_keys[key_idx]]\n",
    "\n",
    "    #loop through regions in annotation file\n",
    "    region_json = image_json['regions']\n",
    "    \n",
    "    #find reference coordinates for subset\n",
    "    subset_idx = int(json_keys[key_idx][0:4])\n",
    "    ref_idx    = ref_dict['idx'].index(int(subset_idx))\n",
    "    x0 = ref_dict['x0'][ref_idx]\n",
    "    y0 = ref_dict['y0'][ref_idx]\n",
    "    \n",
    "    #add subset coordinates\n",
    "    hq_x.append(x0 + 250)\n",
    "    hq_y.append(y0 + 250)\n",
    "    hq_id.append(subset_idx)\n",
    "    \n",
    "    for region_idx, region in enumerate(region_json):\n",
    "        #for regions of type point\n",
    "        if region['shape_attributes']['name'] == 'point':\n",
    "            cx = region['shape_attributes']['cx']\n",
    "            cy = region['shape_attributes']['cy']\n",
    "            #skip if in padding region\n",
    "            if cx < 50 or cx > 550 or cy < 50 or cy > 550:\n",
    "                continue\n",
    "            #add to lists\n",
    "            hail_count += 1\n",
    "            tile_count_temp += 1\n",
    "            hail_x.append(x0+cx)\n",
    "            hail_y.append(y0+cy)\n",
    "    tile_count.append(tile_count_temp)\n",
    "\n",
    "    \n",
    "# print('final hail count:', hail_count)\n",
    "# print('final hail skipped:', hail_skipped)\n",
    "\n",
    "# print('final image:', hail_count)\n",
    "\n"
   ]
  },
  {
   "cell_type": "code",
   "execution_count": 24,
   "metadata": {},
   "outputs": [
    {
     "name": "stdout",
     "output_type": "stream",
     "text": [
      "14.266117969821671 91.08367626886144 46.6509062253743\n"
     ]
    }
   ],
   "source": [
    "#calculate concentration on tiles\n",
    "tile_concentration = np.array(tile_count)/(1.35*1.35)\n",
    "\n",
    "print(np.min(tile_concentration), np.max(tile_concentration), np.mean(tile_concentration))"
   ]
  },
  {
   "cell_type": "code",
   "execution_count": 5,
   "metadata": {},
   "outputs": [],
   "source": [
    "hail_x_m = np.array(hail_x) * 0.0027\n",
    "hail_y_m = np.array(hail_y) * 0.0027\n",
    "\n",
    "hq_x_m = np.array(hq_x) * 0.0027\n",
    "hq_y_m = np.array(hq_y) * 0.0027\n"
   ]
  },
  {
   "cell_type": "code",
   "execution_count": 7,
   "metadata": {},
   "outputs": [
    {
     "name": "stdout",
     "output_type": "stream",
     "text": [
      "1.35\n"
     ]
    }
   ],
   "source": [
    "print(500*0.0027) #width of subsets in m"
   ]
  },
  {
   "cell_type": "code",
   "execution_count": 14,
   "metadata": {},
   "outputs": [
    {
     "name": "stdout",
     "output_type": "stream",
     "text": [
      "1.0973936899862824 85.04801097393688\n"
     ]
    },
    {
     "data": {
      "image/png": "[encoded data removed]",
      "text/plain": [
       "<Figure size 864x432 with 2 Axes>"
      ]
     },
     "metadata": {},
     "output_type": "display_data"
    }
   ],
   "source": [
    "xbins = np.arange(0, 62.5, 1.27) \n",
    "ybins = np.arange(0, 41, 1.27)\n",
    "\n",
    "#compute 2d hist matrix\n",
    "counts, _, _ = np.histogram2d(hail_x_m, hail_y_m, bins=(xbins, ybins))\n",
    "counts = counts/(1.35*1.35)\n",
    "#plot 2d hist matrix \n",
    "fig = plt.figure(facecolor='white',figsize=[12,6])\n",
    "ax = plt.subplot(1, 1, 1)\n",
    "im = ax.pcolormesh(xbins, ybins, counts.T, cmap='hot_r') #pcolormesh expect Y,X axes order\n",
    "plt.ylim(40, 0)\n",
    "\n",
    "cbar = fig.colorbar(im, ax=ax)\n",
    "cbar.set_label('Concentration of hail stones detected (/m2)')\n",
    "\n",
    "print(np.min(counts[counts>1]), np.max(counts))"
   ]
  },
  {
   "cell_type": "code",
   "execution_count": 10,
   "metadata": {},
   "outputs": [
    {
     "data": {
      "text/plain": [
       "'file:///home/548/jss548/dev/SevereWeather/hailpixel/postprocessing/heatmap.html'"
      ]
     },
     "execution_count": 10,
     "metadata": {},
     "output_type": "execute_result"
    }
   ],
   "source": [
    "#create interactive heatmap with maerks showing subset if of high quality subsets\n",
    "\n",
    "from plotly.offline import plot\n",
    "import plotly.graph_objs as go\n",
    "\n",
    "\n",
    "trace1 = go.Heatmap(z=counts.T, x=xbins, y=ybins, hoverinfo='none', colorscale='hot_r')\n",
    "trace2 = go.Scatter(x = hq_x_m, y = hq_y_m, text = hq_id, hoverinfo='text', mode = 'markers', marker=dict(color='black'))\n",
    "layout= go.Layout(hovermode= 'closest', yaxis = dict(autorange = \"reversed\"))\n",
    "    \n",
    "fig= go.Figure(data=[trace1, trace2], layout=layout)\n",
    "plot(fig, filename='heatmap.html')"
   ]
  },
  {
   "cell_type": "code",
   "execution_count": null,
   "metadata": {},
   "outputs": [],
   "source": []
  }
 ],
 "metadata": {
  "kernelspec": {
   "display_name": "Python 3",
   "language": "python",
   "name": "python3"
  },
  "language_info": {
   "codemirror_mode": {
    "name": "ipython",
    "version": 3
   },
   "file_extension": ".py",
   "mimetype": "text/x-python",
   "name": "python",
   "nbconvert_exporter": "python",
   "pygments_lexer": "ipython3",
   "version": "3.7.3"
  }
 },
 "nbformat": 4,
 "nbformat_minor": 4
}
