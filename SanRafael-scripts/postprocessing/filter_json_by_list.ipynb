{
 "cells": [
  {
   "cell_type": "code",
   "execution_count": 20,
   "metadata": {},
   "outputs": [],
   "source": [
    "#adds region boundaries to json annotation files\n",
    "#copies image files"
   ]
  },
  {
   "cell_type": "code",
   "execution_count": 22,
   "metadata": {},
   "outputs": [],
   "source": [
    "import json\n",
    "import os\n",
    "import glob\n",
    "import numpy as np"
   ]
  },
  {
   "cell_type": "code",
   "execution_count": 23,
   "metadata": {},
   "outputs": [],
   "source": [
    "json_in_ffn  = '/g/data1a/kl02/jss548/hail-research/HailPixel/subsets/roi_final/hailpixel_20181126_final.json'\n",
    "json_out_ffn = '/g/data1a/kl02/jss548/hail-research/HailPixel/subsets/roi_final_hq/hailpixel_20181126_final_hq.json'\n",
    "img_in_path  = '/g/data1a/kl02/jss548/hail-research/HailPixel/subsets/images_final'\n",
    "img_out_path  = '/g/data1a/kl02/jss548/hail-research/HailPixel/subsets/images_final_hq'\n",
    "filter_ffn   = '/home/548/jss548/dev/SevereWeather/hailpixel/postprocessing/hq_subset_list.txt'"
   ]
  },
  {
   "cell_type": "code",
   "execution_count": 24,
   "metadata": {},
   "outputs": [],
   "source": [
    "#read subset_list file\n",
    "with open(filter_ffn, 'r') as f:\n",
    "    subset_list = f.read().splitlines()"
   ]
  },
  {
   "cell_type": "code",
   "execution_count": 25,
   "metadata": {},
   "outputs": [
    {
     "name": "stdout",
     "output_type": "stream",
     "text": [
      "finished\n"
     ]
    }
   ],
   "source": [
    "master_json = {}\n",
    "\n",
    "#read json file \n",
    "with open(json_in_ffn) as json_fh:  \n",
    "    data = json.load(json_fh)\n",
    "#loop through json header name\n",
    "for json_header in iter(data):\n",
    "    json_subset_id = json_header[0:4]\n",
    "    #check subset id is in list\n",
    "    if json_subset_id in subset_list:\n",
    "        #add to master json\n",
    "        master_json[json_header] = data[json_header]\n",
    "\n",
    "        #copy image file\n",
    "        image_fn = json_subset_id + '.png'\n",
    "        cmd = 'cp ' + img_in_path + '/' + image_fn + ' ' + img_out_path + '/' + image_fn \n",
    "        os.system(cmd)\n",
    "\n",
    "#save json back to file\n",
    "with open(json_out_ffn, 'w') as outfile:\n",
    "    json.dump(master_json, outfile)\n",
    "\n",
    "print('finished')\n",
    "        \n",
    "   \n",
    "    \n"
   ]
  },
  {
   "cell_type": "code",
   "execution_count": null,
   "metadata": {},
   "outputs": [],
   "source": []
  }
 ],
 "metadata": {
  "kernelspec": {
   "display_name": "Python 3",
   "language": "python",
   "name": "python3"
  },
  "language_info": {
   "codemirror_mode": {
    "name": "ipython",
    "version": 3
   },
   "file_extension": ".py",
   "mimetype": "text/x-python",
   "name": "python",
   "nbconvert_exporter": "python",
   "pygments_lexer": "ipython3",
   "version": "3.6.7"
  }
 },
 "nbformat": 4,
 "nbformat_minor": 2
}
