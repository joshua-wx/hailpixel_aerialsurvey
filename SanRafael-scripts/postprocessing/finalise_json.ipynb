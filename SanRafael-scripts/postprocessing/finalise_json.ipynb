{
 "cells": [
  {
   "cell_type": "code",
   "execution_count": 20,
   "metadata": {},
   "outputs": [],
   "source": [
    "#adds region boundaries to json annotation files\n",
    "#copies image files"
   ]
  },
  {
   "cell_type": "code",
   "execution_count": 2,
   "metadata": {},
   "outputs": [],
   "source": [
    "import json\n",
    "import os\n",
    "import glob\n",
    "import numpy as np"
   ]
  },
  {
   "cell_type": "code",
   "execution_count": 3,
   "metadata": {},
   "outputs": [],
   "source": [
    "json_in_path  = '/g/data1a/kl02/jss548/hail-research/HailPixel/subsets/roi'\n",
    "json_out_path = '/g/data1a/kl02/jss548/hail-research/HailPixel/subsets/roi_final'\n",
    "img_in_path   = '/g/data1a/kl02/jss548/hail-research/HailPixel/subsets/images'\n",
    "img_out_path  = '/g/data1a/kl02/jss548/hail-research/HailPixel/subsets/images_final'"
   ]
  },
  {
   "cell_type": "code",
   "execution_count": 4,
   "metadata": {},
   "outputs": [
    {
     "name": "stdout",
     "output_type": "stream",
     "text": [
      "{'1229.png720492': {'filename': '1229.png', 'size': 720492, 'regions': [{'shape_attributes': {'name': 'point', 'cx': 34, 'cy': 370}, 'region_attributes': {}}, {'shape_attributes': {'name': 'point', 'cx': 210, 'cy': 256}, 'region_attributes': {}}, {'shape_attributes': {'name': 'point', 'cx': 217, 'cy': 231}, 'region_attributes': {}}, {'shape_attributes': {'name': 'point', 'cx': 79, 'cy': 193}, 'region_attributes': {}}, {'shape_attributes': {'name': 'point', 'cx': 59, 'cy': 398}, 'region_attributes': {}}, {'shape_attributes': {'name': 'point', 'cx': 119, 'cy': 401}, 'region_attributes': {}}, {'shape_attributes': {'name': 'point', 'cx': 288, 'cy': 265}, 'region_attributes': {}}, {'shape_attributes': {'name': 'point', 'cx': 184, 'cy': 187}, 'region_attributes': {}}, {'shape_attributes': {'name': 'point', 'cx': 490, 'cy': 506}, 'region_attributes': {}}, {'shape_attributes': {'name': 'point', 'cx': 247, 'cy': 103}, 'region_attributes': {}}, {'shape_attributes': {'name': 'point', 'cx': 348, 'cy': 230}, 'region_attributes': {}}, {'shape_attributes': {'name': 'point', 'cx': 274, 'cy': 244}, 'region_attributes': {}}, {'shape_attributes': {'name': 'point', 'cx': 264, 'cy': 9}, 'region_attributes': {}}, {'shape_attributes': {'name': 'point', 'cx': 271, 'cy': 263}, 'region_attributes': {}}, {'shape_attributes': {'name': 'point', 'cx': 452, 'cy': 212}, 'region_attributes': {}}, {'shape_attributes': {'name': 'point', 'cx': 537, 'cy': 409}, 'region_attributes': {}}, {'shape_attributes': {'name': 'point', 'cx': 420, 'cy': 439}, 'region_attributes': {}}, {'shape_attributes': {'name': 'point', 'cx': 202, 'cy': 292}, 'region_attributes': {}}, {'shape_attributes': {'name': 'point', 'cx': 298, 'cy': 249}, 'region_attributes': {}}, {'shape_attributes': {'name': 'point', 'cx': 442, 'cy': 301}, 'region_attributes': {}}, {'shape_attributes': {'name': 'point', 'cx': 570, 'cy': 496}, 'region_attributes': {}}, {'shape_attributes': {'name': 'point', 'cx': 531, 'cy': 572}, 'region_attributes': {}}, {'shape_attributes': {'name': 'point', 'cx': 94, 'cy': 147}, 'region_attributes': {}}, {'shape_attributes': {'name': 'point', 'cx': 244, 'cy': 367}, 'region_attributes': {}}, {'shape_attributes': {'name': 'point', 'cx': 318, 'cy': 149}, 'region_attributes': {}}, {'shape_attributes': {'name': 'point', 'cx': 393, 'cy': 476}, 'region_attributes': {}}, {'shape_attributes': {'name': 'point', 'cx': 299, 'cy': 151}, 'region_attributes': {}}, {'shape_attributes': {'name': 'point', 'cx': 133, 'cy': 559}, 'region_attributes': {}}, {'shape_attributes': {'name': 'point', 'cx': 90, 'cy': 17}, 'region_attributes': {}}, {'shape_attributes': {'name': 'point', 'cx': 396, 'cy': 577}, 'region_attributes': {}}, {'shape_attributes': {'name': 'point', 'cx': 141, 'cy': 86}, 'region_attributes': {}}, {'shape_attributes': {'name': 'point', 'cx': 581, 'cy': 319}, 'region_attributes': {}}, {'shape_attributes': {'name': 'point', 'cx': 101, 'cy': 508}, 'region_attributes': {}}, {'shape_attributes': {'name': 'point', 'cx': 575, 'cy': 567}, 'region_attributes': {}}, {'shape_attributes': {'name': 'point', 'cx': 275, 'cy': 338}, 'region_attributes': {}}, {'shape_attributes': {'name': 'point', 'cx': 558, 'cy': 406}, 'region_attributes': {}}, {'shape_attributes': {'name': 'point', 'cx': 232, 'cy': 137}, 'region_attributes': {}}, {'shape_attributes': {'name': 'point', 'cx': 496, 'cy': 258}, 'region_attributes': {}}, {'shape_attributes': {'name': 'point', 'cx': 395, 'cy': 198}, 'region_attributes': {}}, {'shape_attributes': {'name': 'point', 'cx': 43, 'cy': 126}, 'region_attributes': {}}, {'shape_attributes': {'name': 'point', 'cx': 297, 'cy': 209}, 'region_attributes': {}}, {'shape_attributes': {'name': 'point', 'cx': 197, 'cy': 315}, 'region_attributes': {}}, {'shape_attributes': {'name': 'point', 'cx': 206, 'cy': 483}, 'region_attributes': {}}, {'shape_attributes': {'name': 'point', 'cx': 256, 'cy': 336}, 'region_attributes': {}}, {'shape_attributes': {'name': 'point', 'cx': 69, 'cy': 22}, 'region_attributes': {}}, {'shape_attributes': {'name': 'point', 'cx': 47, 'cy': 251}, 'region_attributes': {}}, {'shape_attributes': {'name': 'point', 'cx': 85, 'cy': 251}, 'region_attributes': {}}, {'shape_attributes': {'name': 'point', 'cx': 68, 'cy': 262}, 'region_attributes': {}}, {'shape_attributes': {'name': 'point', 'cx': 221, 'cy': 291}, 'region_attributes': {}}, {'shape_attributes': {'name': 'point', 'cx': 144, 'cy': 236}, 'region_attributes': {}}, {'shape_attributes': {'name': 'point', 'cx': 550, 'cy': 435}, 'region_attributes': {}}, {'shape_attributes': {'name': 'point', 'cx': 435, 'cy': 277}, 'region_attributes': {}}, {'shape_attributes': {'name': 'point', 'cx': 446, 'cy': 520}, 'region_attributes': {}}, {'shape_attributes': {'name': 'point', 'cx': 7, 'cy': 45}, 'region_attributes': {}}, {'shape_attributes': {'name': 'point', 'cx': 270, 'cy': 531}, 'region_attributes': {}}, {'shape_attributes': {'name': 'point', 'cx': 591, 'cy': 423}, 'region_attributes': {}}, {'shape_attributes': {'name': 'point', 'cx': 312, 'cy': 81}, 'region_attributes': {}}, {'shape_attributes': {'name': 'point', 'cx': 67, 'cy': 592}, 'region_attributes': {}}, {'shape_attributes': {'name': 'point', 'cx': 56, 'cy': 21}, 'region_attributes': {}}, {'shape_attributes': {'name': 'point', 'cx': 581, 'cy': 475}, 'region_attributes': {}}, {'shape_attributes': {'name': 'point', 'cx': 115, 'cy': 241}, 'region_attributes': {}}, {'shape_attributes': {'name': 'point', 'cx': 380, 'cy': 189}, 'region_attributes': {}}, {'shape_attributes': {'name': 'point', 'cx': 365, 'cy': 181}, 'region_attributes': {}}, {'shape_attributes': {'name': 'point', 'cx': 244, 'cy': 407}, 'region_attributes': {}}, {'shape_attributes': {'name': 'point', 'cx': 246, 'cy': 476}, 'region_attributes': {}}, {'shape_attributes': {'name': 'point', 'cx': 104, 'cy': 268}, 'region_attributes': {}}, {'shape_attributes': {'name': 'point', 'cx': 507, 'cy': 570}, 'region_attributes': {}}, {'shape_attributes': {'name': 'point', 'cx': 54, 'cy': 484}, 'region_attributes': {}}, {'shape_attributes': {'name': 'point', 'cx': 93, 'cy': 301}, 'region_attributes': {}}, {'shape_attributes': {'name': 'point', 'cx': 508, 'cy': 453}, 'region_attributes': {}}, {'shape_attributes': {'name': 'point', 'cx': 144, 'cy': 476}, 'region_attributes': {}}, {'shape_attributes': {'name': 'point', 'cx': 181, 'cy': 399}, 'region_attributes': {}}, {'shape_attributes': {'name': 'point', 'cx': 148, 'cy': 77}, 'region_attributes': {}}, {'shape_attributes': {'name': 'point', 'cx': 590, 'cy': 166}, 'region_attributes': {}}, {'shape_attributes': {'name': 'point', 'cx': 285, 'cy': 581}, 'region_attributes': {}}, {'shape_attributes': {'name': 'point', 'cx': 202, 'cy': 40}, 'region_attributes': {}}, {'shape_attributes': {'name': 'point', 'cx': 270, 'cy': 433}, 'region_attributes': {}}, {'shape_attributes': {'name': 'point', 'cx': 182, 'cy': 87}, 'region_attributes': {}}, {'shape_attributes': {'name': 'point', 'cx': 61, 'cy': 126}, 'region_attributes': {}}, {'shape_attributes': {'name': 'point', 'cx': 101, 'cy': 292}, 'region_attributes': {}}, {'shape_attributes': {'name': 'point', 'cx': 388, 'cy': 178}, 'region_attributes': {}}, {'shape_attributes': {'name': 'point', 'cx': 596, 'cy': 271}, 'region_attributes': {}}, {'shape_attributes': {'name': 'point', 'cx': 76, 'cy': 311}, 'region_attributes': {}}, {'shape_attributes': {'name': 'point', 'cx': 400, 'cy': 12}, 'region_attributes': {}}, {'shape_attributes': {'name': 'point', 'cx': 281, 'cy': 345}, 'region_attributes': {}}, {'shape_attributes': {'name': 'point', 'cx': 514, 'cy': 591}, 'region_attributes': {}}, {'shape_attributes': {'name': 'point', 'cx': 31, 'cy': 16}, 'region_attributes': {}}, {'shape_attributes': {'name': 'point', 'cx': 105, 'cy': 210}, 'region_attributes': {}}, {'shape_attributes': {'name': 'point', 'cx': 337, 'cy': 187}, 'region_attributes': {}}, {'shape_attributes': {'name': 'point', 'cx': 251, 'cy': 377}, 'region_attributes': {}}, {'shape_attributes': {'name': 'point', 'cx': 302, 'cy': 60}, 'region_attributes': {}}, {'shape_attributes': {'name': 'point', 'cx': 528, 'cy': 149}, 'region_attributes': {}}, {'shape_attributes': {'name': 'point', 'cx': 252, 'cy': 205}, 'region_attributes': {}}, {'shape_attributes': {'name': 'point', 'cx': 477, 'cy': 591}, 'region_attributes': {}}, {'shape_attributes': {'name': 'point', 'cx': 182, 'cy': 489}, 'region_attributes': {}}, {'shape_attributes': {'name': 'point', 'cx': 388, 'cy': 107}, 'region_attributes': {}}, {'shape_attributes': {'name': 'point', 'cx': 181, 'cy': 45}, 'region_attributes': {}}, {'shape_attributes': {'name': 'point', 'cx': 162, 'cy': 594}, 'region_attributes': {}}, {'shape_attributes': {'name': 'rect', 'x': 50, 'y': 50, 'width': 500, 'height': 500}, 'region_attributes': {}}], 'file_attributes': {}}}\n"
     ]
    }
   ],
   "source": [
    "buffer_px    = 50\n",
    "master_json = {}\n",
    "region_json = {\"shape_attributes\":{\"name\":\"rect\",\"x\":50,\"y\":50,\"width\":500,\"height\":500},\"region_attributes\":{}}\n",
    "\n",
    "json_ffn_list = glob.glob(json_in_path + '/*.json')\n",
    "\n",
    "for json_ffn in json_ffn_list:\n",
    "    #read json file \n",
    "    with open(json_ffn) as json_fh:  \n",
    "        data = json.load(json_fh)\n",
    "    #extract json header name\n",
    "    json_header = next(iter(data))\n",
    "    #append json element\n",
    "    data[json_header]['regions'].append(region_json)\n",
    "    #add to master\n",
    "    master_json[json_header] = data[json_header]\n",
    "#     #copy image file\n",
    "#     image_fn = final_json_fn[0:4] + '.png'\n",
    "#     cmd = 'cp ' + img_in_path + '/' + image_fn + ' ' + img_out_path + '/' + image_fn \n",
    "#     os.system(cmd)\n",
    "\n",
    "#save json back to file\n",
    "final_json_fn  = 'hailpixel_20181126_final.json'\n",
    "final_json_ffn = json_out_path + '/' + final_json_fn\n",
    "with open(final_json_ffn, 'w') as outfile:\n",
    "    json.dump(master_json, outfile)\n",
    "\n",
    "print('finished')\n",
    "        \n",
    "   \n",
    "    \n"
   ]
  },
  {
   "cell_type": "code",
   "execution_count": null,
   "metadata": {},
   "outputs": [],
   "source": []
  }
 ],
 "metadata": {
  "kernelspec": {
   "display_name": "Python 3",
   "language": "python",
   "name": "python3"
  },
  "language_info": {
   "codemirror_mode": {
    "name": "ipython",
    "version": 3
   },
   "file_extension": ".py",
   "mimetype": "text/x-python",
   "name": "python",
   "nbconvert_exporter": "python",
   "pygments_lexer": "ipython3",
   "version": "3.7.3"
  }
 },
 "nbformat": 4,
 "nbformat_minor": 4
}
