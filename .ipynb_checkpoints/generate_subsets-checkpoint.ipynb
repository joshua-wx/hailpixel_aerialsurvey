{
 "cells": [
  {
   "cell_type": "code",
   "execution_count": 19,
   "metadata": {},
   "outputs": [
    {
     "data": {
      "text/plain": [
       "'\\nThis notebook breaks a large png orthomosaic into smaller subsets with an overlap.\\nAlso generates an index file to determine image coordinates of each subset\\n'"
      ]
     },
     "execution_count": 19,
     "metadata": {},
     "output_type": "execute_result"
    }
   ],
   "source": [
    "\"\"\"\n",
    "Step 1 in HailPixel processing - subset orthomoasic\n",
    "This notebook breaks a large png orthomosaic into smaller subsets with an overlap.\n",
    "Also generates an index file to determine image coordinates of each subset.\n",
    "\"\"\""
   ]
  },
  {
   "cell_type": "code",
   "execution_count": 20,
   "metadata": {},
   "outputs": [],
   "source": [
    "import math\n",
    "import tifffile\n",
    "import numpy as np\n",
    "from PIL import Image\n",
    "import pandas as pd"
   ]
  },
  {
   "cell_type": "code",
   "execution_count": 27,
   "metadata": {},
   "outputs": [],
   "source": [
    "#config\n",
    "pass_str = 'pass5'\n",
    "\n",
    "source_img_ffn = '/home/meso/Desktop/20200119 hail case/aerial_survey/{pass_str}/{pass_str}.tif'.format(pass_str=pass_str)\n",
    "output_img_path = '/home/meso/Desktop/20200119 hail case/aerial_survey/{pass_str}/subsets'.format(pass_str=pass_str)\n",
    "output_idx_ffn = '/home/meso/Desktop/20200119 hail case/aerial_survey/{pass_str}/index.csv'.format(pass_str=pass_str)\n",
    "\n",
    "# subset size\n",
    "subset_sz      = 500 #pixels\n",
    "# edge overlap (total subset suze = subset_sz+(2*subset_overlap) x subset_sz+(2*subset_overlap))\n",
    "subset_overlap = 50 #pixels"
   ]
  },
  {
   "cell_type": "code",
   "execution_count": 28,
   "metadata": {},
   "outputs": [
    {
     "name": "stdout",
     "output_type": "stream",
     "text": [
      "original image size (7720, 9379, 3)\n",
      "padded image size (8100, 9600, 3)\n"
     ]
    }
   ],
   "source": [
    "#read image\n",
    "im    = tifffile.imread(source_img_ffn)\n",
    "#extract size\n",
    "im_sz = np.shape(im)\n",
    "print('original image size', im_sz)\n",
    "im_y  = im_sz[0]\n",
    "im_x  = im_sz[1]\n",
    "im_z  = im_sz[2]\n",
    "# set padded image size as amultiple of subset_sz\n",
    "im_pad_y = math.ceil(im_y / subset_sz) * subset_sz\n",
    "im_pad_x = math.ceil(im_x / subset_sz) * subset_sz\n",
    "# pad image (include overlaps)\n",
    "pad_y0 = subset_overlap\n",
    "pad_x0 = subset_overlap\n",
    "pad_yn = subset_overlap + (im_pad_y-im_y)\n",
    "pad_xn = subset_overlap + (im_pad_x-im_x)\n",
    "im_padded = np.pad(im, ((pad_y0, pad_yn), (pad_x0, pad_xn), (0, 0)), mode='constant')\n",
    "print('padded image size', np.shape(im_padded))"
   ]
  },
  {
   "cell_type": "code",
   "execution_count": 29,
   "metadata": {},
   "outputs": [
    {
     "name": "stdout",
     "output_type": "stream",
     "text": [
      "finished\n"
     ]
    }
   ],
   "source": [
    "#for generate subset image and build index file\n",
    "subset_idx = 0\n",
    "dict_idx = {'idx':[], 'x0':[], 'y0':[]}\n",
    "for y in np.arange(subset_overlap, im_pad_y, subset_sz):\n",
    "    for x in np.arange(subset_overlap, im_pad_x, subset_sz):\n",
    "        #extract subset\n",
    "        subset_y0 = y - subset_overlap\n",
    "        subset_x0 = x - subset_overlap\n",
    "        subset_yn = y + subset_sz + subset_overlap\n",
    "        subset_xn = x + subset_sz + subset_overlap\n",
    "        subset_im = im_padded[subset_y0:subset_yn,subset_x0:subset_xn,0:3]\n",
    "        #write to file\n",
    "        out_ffn = '/'.join([output_img_path, str(subset_idx).zfill(4)]) + '.png'\n",
    "        im = Image.fromarray(subset_im)\n",
    "        im.save(out_ffn)\n",
    "        #append to dict\n",
    "        dict_idx['idx'].append(subset_idx)\n",
    "        dict_idx['y0'].append(subset_y0)\n",
    "        dict_idx['x0'].append(subset_x0)\n",
    "        #print('generated output for',out_ffn)\n",
    "        subset_idx += 1\n",
    "print('finished')\n",
    "\n",
    "#write index dictionary to file\n",
    "df = pd.DataFrame.from_dict(dict_idx)\n",
    "df.to_csv(output_idx_ffn)"
   ]
  }
 ],
 "metadata": {
  "kernelspec": {
   "display_name": "Python 3",
   "language": "python",
   "name": "python3"
  },
  "language_info": {
   "codemirror_mode": {
    "name": "ipython",
    "version": 3
   },
   "file_extension": ".py",
   "mimetype": "text/x-python",
   "name": "python",
   "nbconvert_exporter": "python",
   "pygments_lexer": "ipython3",
   "version": "3.6.7"
  }
 },
 "nbformat": 4,
 "nbformat_minor": 4
}
