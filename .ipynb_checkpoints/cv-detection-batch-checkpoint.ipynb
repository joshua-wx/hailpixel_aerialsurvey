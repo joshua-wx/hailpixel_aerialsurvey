{
 "cells": [
  {
   "cell_type": "code",
   "execution_count": 2,
   "metadata": {},
   "outputs": [],
   "source": [
    "from glob import glob\n",
    "\n",
    "import cv2\n",
    "from scipy import ndimage\n",
    "from skimage.feature import peak_local_max\n",
    "from skimage.morphology import watershed\n",
    "from skimage.measure import regionprops\n",
    "\n",
    "import numpy as np\n",
    "from matplotlib import pyplot as plt\n",
    "\n",
    "import tqdm\n",
    "\n",
    "import mbb"
   ]
  },
  {
   "cell_type": "code",
   "execution_count": 4,
   "metadata": {},
   "outputs": [],
   "source": [
    "subset_ffn_list = sorted(glob('/data/hailpixel_20200119/subsets/subset_3_clean/*.png'))\n",
    "\n",
    "\n",
    "pixel_gsd = 1.4 #ground sample distance\n",
    "\n",
    "inital_threshold = 0.7\n",
    "localmax_mindist = 2\n",
    "min_area_mm = 3.14*(5**2)\n",
    "pixel_area = pixel_gsd*2\n",
    "min_area = int(min_area_mm/pixel_area)"
   ]
  },
  {
   "cell_type": "code",
   "execution_count": 5,
   "metadata": {},
   "outputs": [],
   "source": [
    "#core function\n",
    "\n",
    "def process_subset_image(image_ffn):\n",
    "    #transform into hsv colorspace\n",
    "    img_data = cv2.imread(image_ffn)\n",
    "    img_data_hls = cv2.cvtColor(img_data, cv2.COLOR_BGR2HLS)\n",
    "\n",
    "    l_data = img_data_hls[:,:,1]/255\n",
    "    #apply inital threshold\n",
    "    l_mask = l_data > inital_threshold\n",
    "    #compute distance transform to find centroids\n",
    "    l_mask_dist = ndimage.distance_transform_edt(l_mask)\n",
    "    localMax = peak_local_max(l_mask_dist, indices=False, min_distance=localmax_mindist,\n",
    "        labels=l_mask)\n",
    "\n",
    "    #run watershed\n",
    "    markers = ndimage.label(localMax, structure=np.ones((3, 3)))[0]\n",
    "    labels = watershed(-l_mask_dist, markers, mask=l_mask,watershed_line=True)\n",
    "\n",
    "    #remove small regions\n",
    "    region_prop_list = regionprops(labels)\n",
    "    #build centroid list\n",
    "    hail_centroid_x = []\n",
    "    hail_centroid_y = []\n",
    "    hail_major = []\n",
    "    hail_minor = []\n",
    "\n",
    "    for region_prop in region_prop_list:\n",
    "        if region_prop.area > min_area:\n",
    "            label_centroid = region_prop.centroid\n",
    "            hail_centroid_x.append(label_centroid[1])\n",
    "            hail_centroid_y.append(label_centroid[0])\n",
    "\n",
    "            hail_pts_i, hail_pts_j = np.where(labels == region_prop.label)\n",
    "            bounding_box = mbb.MinimumBoundingBox(list(zip(hail_pts_i,hail_pts_j)))\n",
    "\n",
    "            len_parallel = bounding_box.length_parallel\n",
    "            len_orthogonal = bounding_box.length_orthogonal\n",
    "\n",
    "            #work out maj/min axis length\n",
    "            if len_parallel>len_orthogonal:\n",
    "                maj_axis_len, min_axis_len = len_parallel, len_orthogonal\n",
    "            else:\n",
    "                maj_axis_len, min_axis_len = len_orthogonal, len_parallel\n",
    "\n",
    "            hail_major.append(maj_axis_len)\n",
    "            hail_minor.append(min_axis_len)\n",
    "\n",
    "    hail_centroid_idx = list(range(len(hail_centroid_x)))\n",
    "\n",
    "    return hail_centroid_x, hail_centroid_y, hail_major, hail_minor, hail_centroid_idx\n"
   ]
  },
  {
   "cell_type": "code",
   "execution_count": null,
   "metadata": {},
   "outputs": [
    {
     "name": "stderr",
     "output_type": "stream",
     "text": [
      " 54%|█████▍    | 69/128 [00:35<00:33,  1.78it/s]"
     ]
    }
   ],
   "source": [
    "\n",
    "hail_centroid_x = []\n",
    "hail_centroid_y = []\n",
    "hail_major = []\n",
    "hail_minor = []\n",
    "\n",
    "for image_ffn in tqdm.tqdm(subset_ffn_list, total=len(subset_ffn_list)):\n",
    "    \n",
    "    ss_cx, ss_cy, ss_major, ss_minor, ss_idx = process_subset_image(image_ffn)\n",
    "    \n",
    "    hail_centroid_x.append(ss_cx)\n",
    "    hail_centroid_y.append(ss_cy)\n",
    "    hail_major.append(ss_major)\n",
    "    hail_minor.append(ss_minor)\n",
    "    \n",
    "np.savez('test-batch-detection.npz',hail_cx=hail_centroid_x,hail_cy=hail_centroid_y, hail_idx=hail_centroid_idx)"
   ]
  },
  {
   "cell_type": "code",
   "execution_count": 31,
   "metadata": {},
   "outputs": [
    {
     "data": {
      "image/png": "[encoded data removed]",
      "text/plain": [
       "<Figure size 720x288 with 2 Axes>"
      ]
     },
     "metadata": {},
     "output_type": "display_data"
    }
   ],
   "source": [
    "#plot distributions\n",
    "def plot_stats(hail_maj, hail_min):\n",
    "    pixel_scaling = 2.6 #mm/pixel\n",
    "    \n",
    "    #apply scaling\n",
    "    hail_maj = hail_maj*pixel_scaling\n",
    "    hail_min = hail_min*pixel_scaling\n",
    "    \n",
    "    # matplotlib histogram\n",
    "    fig = plt.figure(facecolor='white',figsize=[10, 4])\n",
    "\n",
    "    plt.subplot(1, 2, 1)\n",
    "    plt.hist(hail_maj, color = 'blue', edgecolor = 'black', bins=np.arange(10,60,2.5))\n",
    "    plt.xlabel('major axis length (mm)')\n",
    "    plt.ylabel('occurrence')\n",
    "\n",
    "    plt.subplot(1, 2, 2)\n",
    "    plt.hist(hail_min/hail_maj, color = 'blue', edgecolor = 'black', bins=np.arange(0.5,1.05,0.05))\n",
    "    plt.xlabel('axis ratio')\n",
    "    plt.ylabel('occurrence')\n",
    "\n",
    "\n",
    "hail_major_array = np.array(hail_major)\n",
    "hail_minor_array = np.array(hail_minor)\n",
    "\n",
    "plot_stats(hail_major_array, hail_minor_array)"
   ]
  },
  {
   "cell_type": "code",
   "execution_count": null,
   "metadata": {},
   "outputs": [],
   "source": []
  }
 ],
 "metadata": {
  "kernelspec": {
   "display_name": "Python 3",
   "language": "python",
   "name": "python3"
  },
  "language_info": {
   "codemirror_mode": {
    "name": "ipython",
    "version": 3
   },
   "file_extension": ".py",
   "mimetype": "text/x-python",
   "name": "python",
   "nbconvert_exporter": "python",
   "pygments_lexer": "ipython3",
   "version": "3.7.6"
  }
 },
 "nbformat": 4,
 "nbformat_minor": 4
}
